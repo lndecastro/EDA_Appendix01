{
 "cells": [
  {
   "cell_type": "markdown",
   "id": "8a3c0363",
   "metadata": {},
   "source": [
    "# Python: A Quick Reference Guide\n",
    "## Computational Exercises\n",
    "## Prof. Leandro Nunes de Castro"
   ]
  },
  {
   "cell_type": "code",
   "execution_count": 1,
   "id": "6c1f1f42",
   "metadata": {},
   "outputs": [],
   "source": [
    "# This content was created as a supporting material for the textbook\n",
    "# EXPLORATORY DATA ANALYSIS: ...\n",
    "# ... Descriptive Analytics, Visualization and Dashboard Design (with codes in Python)\n",
    "# authored by Leandro de Castro (c), 2023-2024\n",
    "# All rights reserved\n",
    "\n",
    "# Appendix 1 - Python: A Quick Reference Guide (Exercises)"
   ]
  },
  {
   "cell_type": "code",
   "execution_count": 15,
   "id": "dcbc505b",
   "metadata": {},
   "outputs": [
    {
     "name": "stdout",
     "output_type": "stream",
     "text": [
      "Function convert Farenheit <-> Celsius\n",
      "Type (1) for F->C conversion or (2) for C->F conversion: 2\n",
      "Enter the temperature to be converted: 0\n",
      "0.0 °C == 32.00 °F\n"
     ]
    }
   ],
   "source": [
    "# Exercise 1\n",
    "# Function convert Farenheit <-> Celsius\n",
    "def fconvFC():\n",
    "    print('**Function convert Farenheit <-> Celsius**')\n",
    "    sel = int(input('Type (1) for F->C conversion or (2) for C->F conversion: '))\n",
    "    temp = float(input('Enter the temperature to be converted: '))\n",
    "    if sel == 1:\n",
    "        tconv = (5/9)*(temp-32) # Conversion Farenheit->Celsius\n",
    "        print(temp,'\\u00b0'+'F ==','%3.2f' % tconv,'\\u00b0'+'C')\n",
    "    else:\n",
    "        tconv = (9/5)*temp+32  # Conversion Celsius->Farenheit\n",
    "        print(temp,'\\u00b0'+'C ==','%3.2f' % tconv,'\\u00b0'+'F')\n",
    "fconvFC()"
   ]
  },
  {
   "cell_type": "code",
   "execution_count": 22,
   "id": "cd34e82a",
   "metadata": {},
   "outputs": [
    {
     "name": "stdout",
     "output_type": "stream",
     "text": [
      "Function convert ft² <-> m² (square feet <-> square meters)\n",
      "Type (1) for ft²->m² conversion or (2) for m²->ft² conversion: 1\n",
      "Enter the area to be converted: 1765\n",
      "1765.0 ft² == 163.97 m²\n"
     ]
    }
   ],
   "source": [
    "# Exercise 2\n",
    "# Function convert sqft <-> sqm\n",
    "def fconvsqftsqm():\n",
    "    print('**Function convert ft\\u00b2 <-> m\\u00b2 (square feet <-> square meters)**')\n",
    "    sel = int(input('Type (1) for ft\\u00b2->m\\u00b2 conversion or (2) for m\\u00b2->ft\\u00b2 conversion: '))\n",
    "    area = float(input('Enter the area to be converted: '))\n",
    "    if sel == 1:\n",
    "        aconv = 0.09290304*area # Conversion sqft->sqm\n",
    "        print(area,'ft\\u00b2 ==','%4.2f' % aconv,'m\\u00b2')\n",
    "    else:\n",
    "        aconv = 10.7639104167*area  # Conversion sqm->sqft\n",
    "        print(area,'m\\u00b2 ==','%3.2f' % aconv,'ft\\u00b2')\n",
    "fconvsqftsqm()\n",
    "# 1 ft^2 = 0.09290304 m^2\n",
    "# 1 m^2 = 10.7639104167 ft^2\n",
    "# \\u00b2"
   ]
  },
  {
   "cell_type": "code",
   "execution_count": 24,
   "id": "5c06a1cd",
   "metadata": {},
   "outputs": [
    {
     "name": "stdout",
     "output_type": "stream",
     "text": [
      "         *         \n",
      "        ***        \n",
      "       *****       \n",
      "      *******      \n",
      "     *********     \n",
      "    ***********    \n",
      "   *************   \n",
      "  ***************  \n",
      " ***************** \n",
      "*******************\n"
     ]
    }
   ],
   "source": [
    "# Exercise 3\n",
    "# Function that prints a pyramid in the screen\n",
    "def pyramid(height):\n",
    "    for i in range(1,height*2,2):\n",
    "        print(('*'*i).center(height*2-1))\n",
    "pyramid(10)"
   ]
  },
  {
   "cell_type": "code",
   "execution_count": 41,
   "id": "c4be0142",
   "metadata": {},
   "outputs": [
    {
     "name": "stdout",
     "output_type": "stream",
     "text": [
      "**Function read a sentence and determine if it is a palindrome**\n",
      "Enter the sentence to be verified: testset\n",
      "Reversed sentence: * testset *\n",
      "* testset * is a palindrome\n"
     ]
    }
   ],
   "source": [
    "# Exercise 4\n",
    "# Function that determines if a word or sentence is a palyndrome\n",
    "def palindrome():\n",
    "    print('**Function read a sentence and determine if it is a palindrome**')\n",
    "    sent = input('Enter the sentence to be verified: ')\n",
    "    rsent = ''\n",
    "    for i in sent:\n",
    "        rsent = i + rsent # Placing the new letters before the last one\n",
    "    print('Reversed sentence:','*',rsent,'*')\n",
    "    if rsent.lower() == sent.lower(): # The comparison is not case-sensitive\n",
    "        print('*',sent,'*','is a palindrome')\n",
    "    else:\n",
    "        print('*',sent,'*','is not a palindrome')\n",
    "palindrome()"
   ]
  },
  {
   "cell_type": "code",
   "execution_count": 122,
   "id": "39f0c243",
   "metadata": {},
   "outputs": [
    {
     "name": "stdout",
     "output_type": "stream",
     "text": [
      "<bound method NDFrame.head of     BI-RADS Age      Shape         Margin Density   Severity\n",
      "0         5  67    Lobular     Spiculated     Low  Malignant\n",
      "1         4  43      Round  Circumscribed       ?  Malignant\n",
      "2         5  58  Irregular     Spiculated     Low  Malignant\n",
      "3         4  28      Round  Circumscribed     Low     Benign\n",
      "4         5  74      Round     Spiculated       ?  Malignant\n",
      "..      ...  ..        ...            ...     ...        ...\n",
      "956       4  47       Oval  Circumscribed     Low     Benign\n",
      "957       4  56  Irregular     Spiculated     Low  Malignant\n",
      "958       4  64  Irregular     Spiculated     Low     Benign\n",
      "959       5  66  Irregular     Spiculated     Low  Malignant\n",
      "960       4  62    Lobular       Obscured     Low     Benign\n",
      "\n",
      "[961 rows x 6 columns]>\n",
      "<class 'pandas.core.frame.DataFrame'>\n",
      "\n",
      "*5.1. The number of missing values (?) in variable Density is: 76\n",
      "\n",
      "*5.2. The class values in variable Severity are: {'Malignant', 'Benign'}\n",
      "The number of Malignant values is 445 and the number of Benign values is 445\n",
      "\n",
      "*5.3. Basic statistics of variable Age\n",
      "Number of missing values in variable Age: 5\n",
      "The maximal age is 96 the minimal age is 18 and the average age is 55.49\n"
     ]
    }
   ],
   "source": [
    "# Exercise 5\n",
    "# Manipulating Data Frames\n",
    "\n",
    "# Opening a dataset using a specific library (pandas)\n",
    "import pandas as pd  # Pandas is a data manipulation and analysis library\n",
    "\n",
    "# Loading the UCI 'Mammo' dataset\n",
    "# https://archive.ics.uci.edu/ml/datasets/Mammographic+Mass\n",
    "dmammo = pd.read_csv('mammographic_masses_nominal.csv')\n",
    "print(dmammo.head)\n",
    "print(type(dmammo))\n",
    "\n",
    "# 5.1. Determine the number of missing values\n",
    "sDensity = list(dmammo['Density'])\n",
    "print('\\n*5.1. The number of missing values (''?'') in variable Density is:',sDensity.count('?'))\n",
    "\n",
    "# 5.2. Determine the number of objects in each class value for the target variable Severity\n",
    "sSeverity = dmammo['Severity']\n",
    "# A set doesn't allow repetition and is a great tool to find the possible values in a nominal variable,\n",
    "# so convert the sSeverity series into a set\n",
    "setSeverity = set(sSeverity)\n",
    "print('\\n*5.2. The class values in variable Severity are:',setSeverity) \n",
    "# Convert the series into a list and use the same logic as in 5.1\n",
    "sSeverity = list(sSeverity)\n",
    "svalues = list(setSeverity) # Sets are not scriptable, thus we convert it into a list\n",
    "print('The number of', svalues[0], 'values is',sSeverity.count(svalues[0]),\n",
    "      'and the number of',svalues[1], 'values is',sSeverity.count(svalues[0]))\n",
    "\n",
    "# 5.3. Determine the maximal, minimal and average age of the patients\n",
    "# First, remove the missing values from variable Age\n",
    "nAge = list(dmammo['Age'])\n",
    "nmv = nAge.count('?') # NUmber of missing values\n",
    "print('\\n*5.3. Basic statistics of variable Age')\n",
    "print('Number of missing values in variable Age:',nmv)\n",
    "for i in range(nmv):\n",
    "    nAge.remove('?') # Remove all missing values\n",
    "nAge = list(map(int,nAge))\n",
    "max_Age = max(nAge)\n",
    "min_Age = min(nAge)\n",
    "avg_Age = sum(nAge)/len(nAge)\n",
    "print('The maximal age is',max_Age,'the minimal age is',min_Age,'and the average age is','%2.2f' % avg_Age)"
   ]
  },
  {
   "cell_type": "code",
   "execution_count": null,
   "id": "629e60ed",
   "metadata": {},
   "outputs": [],
   "source": []
  }
 ],
 "metadata": {
  "kernelspec": {
   "display_name": "Python 3 (ipykernel)",
   "language": "python",
   "name": "python3"
  },
  "language_info": {
   "codemirror_mode": {
    "name": "ipython",
    "version": 3
   },
   "file_extension": ".py",
   "mimetype": "text/x-python",
   "name": "python",
   "nbconvert_exporter": "python",
   "pygments_lexer": "ipython3",
   "version": "3.9.12"
  }
 },
 "nbformat": 4,
 "nbformat_minor": 5
}
