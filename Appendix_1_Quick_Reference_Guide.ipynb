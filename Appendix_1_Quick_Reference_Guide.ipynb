{
 "cells": [
  {
   "cell_type": "markdown",
   "id": "f40875aa",
   "metadata": {},
   "source": [
    "# Python: A Quick Reference Guide\n",
    "# Prof. Leandro Nunes de Castro"
   ]
  },
  {
   "cell_type": "code",
   "execution_count": null,
   "id": "2c6faed5",
   "metadata": {},
   "outputs": [],
   "source": [
    "# This content was created as a supporting material for the textbook\n",
    "# EXPLORATORY DATA ANALYSIS: ...\n",
    "# ... Descriptive Analytics, Visualization and Dashboard Design (with codes in Python)\n",
    "# authored by Leandro de Castro (c), 2023-2024\n",
    "# All rights reserved\n",
    "\n",
    "# Appendix 1 - Python: A Quick Reference Guide"
   ]
  },
  {
   "cell_type": "markdown",
   "id": "e3d753b2",
   "metadata": {},
   "source": [
    "# 1. Basic Syntax in Python"
   ]
  },
  {
   "cell_type": "markdown",
   "id": "37a33551",
   "metadata": {},
   "source": [
    "## 1.1 Assigning Variables "
   ]
  },
  {
   "cell_type": "code",
   "execution_count": null,
   "id": "40ca5d81",
   "metadata": {},
   "outputs": [],
   "source": [
    "# Declaring and initializing variables\n",
    "v1 = 1974\n",
    "v2 = 12.34\n",
    "v3 = \"I am a data analyst\"\n",
    "# Printing (displaying) variables\n",
    "print('Type(v1)',type(v1))\n",
    "print('Type(v2)',type(v2))\n",
    "print('Type(v3)',type(v3))\n"
   ]
  },
  {
   "cell_type": "code",
   "execution_count": null,
   "id": "28c3b830",
   "metadata": {},
   "outputs": [],
   "source": [
    "# Casting and changing double for single quotes \n",
    "v1 = float(1974)\n",
    "v2 = int(12.34)\n",
    "v3 = str('I am a data analyst')  # Single quotes\n",
    "# Printing (displaying) variables\n",
    "print('**Casting:')\n",
    "print('Float v1: ',v1)\n",
    "print('Int v2: ',v2)\n",
    "# Chained assignments\n",
    "v1 = v2 = v3 = 1974\n",
    "print('**Chained assignments:')\n",
    "print(v1, v2, v3)\n",
    "v1, v2, v3 = 10, 20, 30\n",
    "print('**Multiple assignments simultaneously:')\n",
    "print(v1,v2,v3)"
   ]
  },
  {
   "cell_type": "code",
   "execution_count": 325,
   "id": "0e1bcc35",
   "metadata": {},
   "outputs": [
    {
     "name": "stdout",
     "output_type": "stream",
     "text": [
      "\n",
      "Here is a list of the Python keywords.  Enter any keyword to get more help.\n",
      "\n",
      "False               break               for                 not\n",
      "None                class               from                or\n",
      "True                continue            global              pass\n",
      "__peg_parser__      def                 if                  raise\n",
      "and                 del                 import              return\n",
      "as                  elif                in                  try\n",
      "assert              else                is                  while\n",
      "async               except              lambda              with\n",
      "await               finally             nonlocal            yield\n",
      "\n",
      "false is a keyword? False\n",
      "False is a keyword? True\n",
      "elif is a keyword? True\n"
     ]
    }
   ],
   "source": [
    "# Keyword generation and testing\n",
    "help('keywords')\n",
    "import keyword # Import the keyword.py library\n",
    "print('false is a keyword?',keyword.iskeyword('false'))\n",
    "print('False is a keyword?',keyword.iskeyword('False'))\n",
    "print('elif is a keyword?',keyword.iskeyword('elif'))"
   ]
  },
  {
   "cell_type": "code",
   "execution_count": 336,
   "id": "15a2f3f3",
   "metadata": {},
   "outputs": [
    {
     "name": "stdout",
     "output_type": "stream",
     "text": [
      "Is 1974 < 12.34 ? False\n",
      "Is 1974 <= 12.34 ? False\n",
      "Is 1974 > 12.34 ? True\n",
      "Is 1974 >= 12.34 ? True\n",
      "Is 1974 == 12.34 ? False\n",
      "Is 1974 != 12.34 ? True\n",
      "Is 1974 a float number? False\n",
      "Is 1974 not a float number? True\n"
     ]
    }
   ],
   "source": [
    "# Comparisons\n",
    "v1 = 1974\n",
    "v2 = 12.34\n",
    "print('Is', v1, '<', v2,'?',v1 < v2) # Strictly less than\n",
    "print('Is', v1, '<=', v2,'?',v1 <= v2) # Less than or equal to\n",
    "print('Is', v1, '>', v2,'?',v1 > v2) # Strictly greater than\n",
    "print('Is', v1, '>=', v2,'?',v1 >= v2) # Greater than or equal to\n",
    "print('Is', v1, '==', v2,'?',v1 == v2) # Equal to\n",
    "print('Is', v1, '!=', v2,'?',v1 != v2) # Different from\n",
    "print('Is', v1, 'a float number?',v1 is float) # Identity\n",
    "print('Is', v1, 'not a float number?',v1 is not float) # Identity negation"
   ]
  },
  {
   "cell_type": "markdown",
   "id": "55434219",
   "metadata": {},
   "source": [
    "## 1.2 Data Input and Output "
   ]
  },
  {
   "cell_type": "code",
   "execution_count": null,
   "id": "50ace279",
   "metadata": {},
   "outputs": [],
   "source": [
    "# Data input from a user\n",
    "age = input('What is your age? ')\n",
    "print('Default type: ',type(age))\n",
    "age = float(age) # Converting the string into an int type\n",
    "print('Converted type: ',type(age))"
   ]
  },
  {
   "cell_type": "code",
   "execution_count": null,
   "id": "3199e0fe",
   "metadata": {},
   "outputs": [],
   "source": [
    "pwd # Print the working directory (folder)"
   ]
  },
  {
   "cell_type": "code",
   "execution_count": null,
   "id": "1b567ebc",
   "metadata": {},
   "outputs": [],
   "source": [
    "# Opening and closing files using the try-finally block \n",
    "dinsect = open('insect.csv')\n",
    "try:\n",
    "    # File processing is included here\n",
    "    print(dinsect.read()) # Read and print the whole content of the file\n",
    "finally:\n",
    "    dinsect.close()"
   ]
  },
  {
   "cell_type": "code",
   "execution_count": null,
   "id": "5ad19836",
   "metadata": {},
   "outputs": [],
   "source": [
    "# Opening and closing files using the with statement \n",
    "# This code reads the first three lines of the file\n",
    "with open('insect.csv') as dinsect:\n",
    "    # File processing is included here\n",
    "    print(dinsect.readline())\n",
    "    print(dinsect.readline())\n",
    "    print(dinsect.readline())"
   ]
  },
  {
   "cell_type": "code",
   "execution_count": 3,
   "id": "4576dd73",
   "metadata": {},
   "outputs": [
    {
     "name": "stdout",
     "output_type": "stream",
     "text": [
      "(961, 6)\n",
      "<bound method NDFrame.head of     BI-RADS Age      Shape         Margin Density   Severity\n",
      "0         5  67    Lobular     Spiculated     Low  Malignant\n",
      "1         4  43      Round  Circumscribed       ?  Malignant\n",
      "2         5  58  Irregular     Spiculated     Low  Malignant\n",
      "3         4  28      Round  Circumscribed     Low     Benign\n",
      "4         5  74      Round     Spiculated       ?  Malignant\n",
      "..      ...  ..        ...            ...     ...        ...\n",
      "956       4  47       Oval  Circumscribed     Low     Benign\n",
      "957       4  56  Irregular     Spiculated     Low  Malignant\n",
      "958       4  64  Irregular     Spiculated     Low     Benign\n",
      "959       5  66  Irregular     Spiculated     Low  Malignant\n",
      "960       4  62    Lobular       Obscured     Low     Benign\n",
      "\n",
      "[961 rows x 6 columns]>\n",
      "<class 'pandas.core.frame.DataFrame'>\n"
     ]
    }
   ],
   "source": [
    "# Opening a dataset using a specific library (pandas)\n",
    "import pandas as pd  # Pandas is a data manipulation and analysis library\n",
    "# Loading the UCI 'Mammo' dataset\n",
    "# https://archive.ics.uci.edu/ml/datasets/Mammographic+Mass\n",
    "dmammo = pd.read_csv('mammographic_masses_nominal.csv')\n",
    "print(dmammo.shape)\n",
    "print(dmammo.head)\n",
    "print(type(dmammo))"
   ]
  },
  {
   "cell_type": "code",
   "execution_count": null,
   "id": "ce7aa77b",
   "metadata": {},
   "outputs": [],
   "source": [
    "# Illustrating some common uses of function print()\n",
    "print('Hello, world!')\n",
    "import os  # Provides functions to interact with the operating system\n",
    "print() # Print a blanck line\n",
    "print('Hi, '+ os.getlogin() +', welcome to Python for dummies!') \n",
    "print('Hi', os.getlogin(), 'welcome to Python for dummies!', \n",
    "      sep=\", \") # Using a specific separator"
   ]
  },
  {
   "cell_type": "code",
   "execution_count": null,
   "id": "81d0c4d1",
   "metadata": {},
   "outputs": [],
   "source": [
    "# Using the print() function to write directly within a file\n",
    "with open('emptyfile.txt', mode='r+') as femptyfile:\n",
    "    print(femptyfile.read()) # Print the content of the file before writing\n",
    "    print('Writing in the empty file', file=femptyfile)"
   ]
  },
  {
   "cell_type": "code",
   "execution_count": null,
   "id": "11dc9e61",
   "metadata": {},
   "outputs": [],
   "source": [
    "# Using the write() method to write within a file\n",
    "with open('emptyfile.txt', mode='r+') as femptyfile:\n",
    "    print(femptyfile.read()) # Print the content of the file before writing\n",
    "    femptyfile.write('Writing with the write() method\\n')"
   ]
  },
  {
   "cell_type": "code",
   "execution_count": null,
   "id": "73ee68ff",
   "metadata": {},
   "outputs": [],
   "source": [
    "# Using the print function with the format() method\n",
    "str = 'My name is {0}, I am {1} years old, and I am {2}.'\n",
    "print(str.format('Leo', 49, \"married\"))  # Format() with object str\n",
    "myname = 'Leo'\n",
    "age = 49\n",
    "mstatus = \"married\"\n",
    "\n",
    "# Printing (displaying) variables\n",
    "print('\\n**Using format() within the print function')\n",
    "print('My name is {v1}, I am {v2} years old, and I am {v3}.'\n",
    "      .format(v1=myname,v2=age,v3=mstatus))"
   ]
  },
  {
   "cell_type": "code",
   "execution_count": null,
   "id": "0e14ebdc",
   "metadata": {},
   "outputs": [],
   "source": [
    "# Indentation in Python\n",
    "var1 = int(input('Enter an integer value from 1 to 10: '))\n",
    "if var1 > 5:\n",
    "    print('The value is greater than 5')\n",
    "    print('*If* tested')\n",
    "else:\n",
    "    print('The value is smaller than 5')\n",
    "    print('*Else* tested')\n",
    "print('Program finished (always printed)')"
   ]
  },
  {
   "cell_type": "markdown",
   "id": "ab5e2f44",
   "metadata": {},
   "source": [
    "# 2. Data Types"
   ]
  },
  {
   "cell_type": "code",
   "execution_count": 177,
   "id": "30dd03e2",
   "metadata": {},
   "outputs": [
    {
     "name": "stdout",
     "output_type": "stream",
     "text": [
      "<class 'str'> Example:  Exploratory Data Analysis\n",
      "<class 'int'> Example:  10\n",
      "<class 'float'> Example:  10.35\n",
      "<class 'complex'> Example:  (1+2j)\n",
      "<class 'list'> Example:  ['one', 'two', 'three']\n",
      "<class 'tuple'> Example:  ('one', 'two', 'three')\n",
      "<class 'range'> Example:  range(0, 10)\n",
      "<class 'set'> Example:  {'one', 'three', 'two'}\n",
      "<class 'dict'> Example:  {'Temperature': '70', 'Scale': 'Farenheit'}\n",
      "<class 'frozenset'> Example:  frozenset({'one', 'three', 'two'})\n",
      "<class 'bool'> Example:  False\n",
      "<class 'bytes'> Example:  b'one'\n",
      "<class 'bytearray'> Example:  bytearray(b'\\x00\\x00\\x00\\x00\\x00\\x00\\x00\\x00\\x00\\x00')\n",
      "<class 'memoryview'> Example:  <memory at 0x000002A378E82280>\n",
      "<class 'NoneType'> Example:  None\n"
     ]
    }
   ],
   "source": [
    "var = 'Exploratory Data Analysis'; print(type(var),'Example: ',var)\n",
    "var = 10; print(type(var),'Example: ',var)\n",
    "var = 10.35; print(type(var),'Example: ',var)\n",
    "var = complex(1,2); print(type(var),'Example: ',var)\n",
    "var = ['one','two', 'three']; print(type(var),'Example: ',var)\n",
    "var = ('one','two', 'three'); print(type(var),'Example: ',var)\n",
    "var = range(10); print(type(var),'Example: ',var)\n",
    "var = {'one','two', 'three'}; print(type(var),'Example: ',var)\n",
    "var = {'Temperature' : '70', 'Scale' : 'Farenheit'}; print(type(var),\n",
    "                                                           'Example: ',var)\n",
    "var = frozenset({'one','two', 'three'}); print(type(var),'Example: ',var)\n",
    "var = False; print(type(var),'Example: ',var)\n",
    "var = b'one'; print(type(var),'Example: ',var)\n",
    "var = bytearray(10); print(type(var),'Example: ',var)\n",
    "var = memoryview(bytes(10)); print(type(var),'Example: ',var)\n",
    "var = None; print(type(var),'Example: ',var)"
   ]
  },
  {
   "cell_type": "markdown",
   "id": "ba120ab6",
   "metadata": {},
   "source": [
    "## 2.1 Numeric "
   ]
  },
  {
   "cell_type": "code",
   "execution_count": 281,
   "id": "222fc915",
   "metadata": {},
   "outputs": [
    {
     "name": "stdout",
     "output_type": "stream",
     "text": [
      "<class 'int'> <class 'float'> <class 'complex'>\n",
      "10.0\n",
      "5\n",
      "n1+n2 = 15.5\n",
      "n1-n2 = 4.5\n",
      "n1/n2 = 1.8181818181818181\n",
      "Floored: n1//n2 = 1.0\n",
      "Remainder: n1%n2 = 4.5\n",
      "n1*n2 = 55.0\n",
      "n1^2 = 100\n",
      "pow(n1,2) = 100\n"
     ]
    }
   ],
   "source": [
    "# Numeric data types\n",
    "n1 = 10\n",
    "n2 = 5.5\n",
    "n3 = 1 + 2j\n",
    "print(type(n1),type(n2),type(n3))\n",
    "print(float(n1)) # Convert only to print\n",
    "print(int(n2)) # Convert only to print\n",
    "# Main arithmetic operations\n",
    "print('n1+n2 =',n1+n2)\n",
    "print('n1-n2 =',n1-n2)\n",
    "print('n1/n2 =',n1/n2)\n",
    "print('Floored: n1//n2 =',n1//n2) # Floored quotient\n",
    "print('Remainder: n1%n2 =',n1%n2) # Remainder\n",
    "print('n1*n2 =',n1*n2)\n",
    "print('n1^2 =',n1**2)\n",
    "print('pow(n1,2) =',pow(n1,2))"
   ]
  },
  {
   "cell_type": "markdown",
   "id": "52436e02",
   "metadata": {},
   "source": [
    "## 2.2 Strings "
   ]
  },
  {
   "cell_type": "code",
   "execution_count": 215,
   "id": "517de85d",
   "metadata": {},
   "outputs": [
    {
     "name": "stdout",
     "output_type": "stream",
     "text": [
      "My\n",
      "My\n",
      "name\n",
      "Castro\n",
      "My name is Leandro de Castro\n",
      "3\n",
      "My new name is Leandro Silva\n"
     ]
    },
    {
     "data": {
      "text/plain": [
       "17"
      ]
     },
     "execution_count": 215,
     "metadata": {},
     "output_type": "execute_result"
    }
   ],
   "source": [
    "# Strings: accessing, concatenating, replacing\n",
    "p1 = 'My name is'\n",
    "p2 = 'Leandro de Castro'\n",
    "print(p1[0:2]) # Accessing the first two characters\n",
    "print(p1[:2]) # Accessing the first two characters (alternative)\n",
    "print(p1[3:7]) # Accessing the substring 'name' (chars 4 to 7)\n",
    "print(p2[-6:]) # Backward accessing the substring 'Castro'\n",
    "p3 = p1+' '+p2 # Concatenating strings\n",
    "print(p3)\n",
    "ind = p3.find('name') # Find the index of a string within p3\n",
    "print(ind)\n",
    "p4 = p2.replace('de Castro','Silva')\n",
    "print('My new name is',p4) # Replace a substring"
   ]
  },
  {
   "cell_type": "markdown",
   "id": "7251a4ae",
   "metadata": {},
   "source": [
    "## 2.3 Lists"
   ]
  },
  {
   "cell_type": "code",
   "execution_count": 249,
   "id": "128b1546",
   "metadata": {},
   "outputs": [
    {
     "name": "stdout",
     "output_type": "stream",
     "text": [
      "<class 'list'>\n",
      "['There', 'are', 50, 'states', 'in', 'USA']\n",
      "There 50 USA\n",
      "6\n",
      "['There', 'are', 50, 'states', 'in', 'USA', 30.2]\n",
      "['There', 'are', 50, 'states', 'in', 'USA']\n",
      "['There', 'are', 'states', 'in', 'USA']\n",
      "['There', 'are', 50, 'states', 'in', 'USA']\n",
      "1\n",
      "['USA', 'in', 'states', 50, 'are', 'There']\n"
     ]
    }
   ],
   "source": [
    "# Lists: declaring, reading, and operating \n",
    "mylist = ['There','are',50,'states','in','USA']\n",
    "print(type(mylist)) # Print the data type\n",
    "print(mylist) # Print the whole list\n",
    "print(mylist[0],mylist[2],mylist[5]) # Print items in a list\n",
    "print(len(mylist)) # List length\n",
    "mylist.append(30.2) # Append an item to the end of the list\n",
    "print(mylist)\n",
    "mylist.remove(30.2) # Remove an item from the list\n",
    "print(mylist)\n",
    "mylist.pop(2) # Remove item at position 3\n",
    "print(mylist)\n",
    "mylist.insert(2,50) # Insert item '50' at index 3\n",
    "print(mylist)\n",
    "print(mylist.count('states')) # Number of times the word 'states' appear\n",
    "mylist.reverse(); print(mylist) # Reversing the list"
   ]
  },
  {
   "cell_type": "markdown",
   "id": "488707e2",
   "metadata": {},
   "source": [
    "## 2.4 Tuples"
   ]
  },
  {
   "cell_type": "code",
   "execution_count": 257,
   "id": "ce7e8829",
   "metadata": {},
   "outputs": [
    {
     "name": "stdout",
     "output_type": "stream",
     "text": [
      "<class 'tuple'>\n",
      "('There', 'are', 50, 'states', 'in', 'USA')\n",
      "There 50 USA\n",
      "6\n",
      "('There', 'are', 50, 'states', 'in', 'USA', 'and', 67, 'counties', 'in', 'Florida.')\n",
      "(('There', 'are', 50, 'states', 'in', 'USA'), ('and', 67, 'counties', 'in', 'Florida.'))\n"
     ]
    },
    {
     "ename": "TypeError",
     "evalue": "'tuple' object does not support item assignment",
     "output_type": "error",
     "traceback": [
      "\u001b[1;31m---------------------------------------------------------------------------\u001b[0m",
      "\u001b[1;31mTypeError\u001b[0m                                 Traceback (most recent call last)",
      "\u001b[1;32m~\\AppData\\Local\\Temp\\ipykernel_2128\\3595498160.py\u001b[0m in \u001b[0;36m<module>\u001b[1;34m\u001b[0m\n\u001b[0;32m     10\u001b[0m \u001b[0mnestedtuple\u001b[0m \u001b[1;33m=\u001b[0m \u001b[1;33m(\u001b[0m\u001b[0mmytuple\u001b[0m\u001b[1;33m,\u001b[0m\u001b[0mnewtuple\u001b[0m\u001b[1;33m)\u001b[0m\u001b[1;33m\u001b[0m\u001b[1;33m\u001b[0m\u001b[0m\n\u001b[0;32m     11\u001b[0m \u001b[0mprint\u001b[0m\u001b[1;33m(\u001b[0m\u001b[0mnestedtuple\u001b[0m\u001b[1;33m)\u001b[0m \u001b[1;31m# Nested tuple\u001b[0m\u001b[1;33m\u001b[0m\u001b[1;33m\u001b[0m\u001b[0m\n\u001b[1;32m---> 12\u001b[1;33m \u001b[0mnewtuple\u001b[0m\u001b[1;33m[\u001b[0m\u001b[1;36m1\u001b[0m\u001b[1;33m]\u001b[0m \u001b[1;33m=\u001b[0m \u001b[1;36m50\u001b[0m \u001b[1;31m# Tuples do not support item assignment\u001b[0m\u001b[1;33m\u001b[0m\u001b[1;33m\u001b[0m\u001b[0m\n\u001b[0m",
      "\u001b[1;31mTypeError\u001b[0m: 'tuple' object does not support item assignment"
     ]
    }
   ],
   "source": [
    "# Tuples: declaring, reading, and operating \n",
    "mytuple = ('There','are',50,'states','in','USA')\n",
    "print(type(mytuple)) # Print the data type\n",
    "print(mytuple) # Print the whole tuple\n",
    "print(mytuple[0],mytuple[2],mytuple[5]) # Print items in a tuple\n",
    "print(len(mytuple)) # Tuple length\n",
    "newtuple = ('and',67,'counties','in','Florida.')\n",
    "fulltuple = mytuple + newtuple # Concatenate tuples\n",
    "print(fulltuple)\n",
    "nestedtuple = (mytuple,newtuple)\n",
    "print(nestedtuple) # Nested tuple\n",
    "newtuple[1] = 50 # Tuples do not support item assignment"
   ]
  },
  {
   "cell_type": "markdown",
   "id": "6fc96062",
   "metadata": {},
   "source": [
    "## 2.5 Range"
   ]
  },
  {
   "cell_type": "code",
   "execution_count": 270,
   "id": "9d6984cf",
   "metadata": {},
   "outputs": [
    {
     "name": "stdout",
     "output_type": "stream",
     "text": [
      "<class 'range'>\n",
      "[0, 1, 2, 3, 4, 5, 6, 7, 8, 9]\n",
      "(0, 1, 2, 3, 4, 5, 6, 7, 8, 9)\n",
      "[0, 2, 4, 6, 8]\n",
      "[0, -1, -2, -3, -4, -5, -6, -7, -8, -9]\n",
      "-2\n"
     ]
    }
   ],
   "source": [
    "# Range\n",
    "rg = range(10) # Create the sequence\n",
    "print(type(rg)) # Print the type\n",
    "print(list(rg)) # Transform in a list\n",
    "print(tuple(rg)) # Transform in a tuple\n",
    "rg = range(0,10,2) # Steps of 2\n",
    "print(list(rg))\n",
    "rg = range(0,-10,-1) # Steps of -1\n",
    "print(list(rg))\n",
    "print(rg[2]) # Accessing an item by its index"
   ]
  },
  {
   "cell_type": "markdown",
   "id": "050300e1",
   "metadata": {},
   "source": [
    "## 2.6 Dictionary "
   ]
  },
  {
   "cell_type": "code",
   "execution_count": 307,
   "id": "fc034807",
   "metadata": {},
   "outputs": [
    {
     "name": "stdout",
     "output_type": "stream",
     "text": [
      "Original dictionary: {'Anna': 27, 'Maria': 33, 'Peter': 42, 'Robert': 35}\n",
      "Increased dictionary: {'Anna': 27, 'Maria': 33, 'Peter': 42, 'Robert': 35, 'Allyson': 29}\n",
      "Keys: dict_keys(['Anna', 'Maria', 'Peter', 'Robert', 'Allyson'])\n",
      "Values: dict_values([27, 33, 42, 35, 29])\n",
      "Maria is 33-years old.\n",
      "Updated Allyson age: {'Anna': 27, 'Maria': 33, 'Peter': 42, 'Robert': 35, 'Allyson': 20}\n",
      "Ordered dictionary: {'Allyson': 20, 'Anna': 27, 'Maria': 33, 'Peter': 42, 'Robert': 35}\n",
      "Reduced dictionary: {'Anna': 27, 'Maria': 33, 'Peter': 42, 'Robert': 35}\n"
     ]
    }
   ],
   "source": [
    "# Dictionaries (dict)\n",
    "dic_ages = {'Anna':27, 'Maria':33,'Peter':42,'Robert':35}\n",
    "print('Original dictionary:',dic_ages)\n",
    "dic_ages['Allyson'] = 29 # Adding a person to the dict\n",
    "print('Increased dictionary:',dic_ages)\n",
    "keys = dic_ages.keys()\n",
    "print('Keys:',keys) # Print all keys\n",
    "print('Values:',dic_ages.values()) # Print all values\n",
    "# Print value for key = Maria\n",
    "print('Maria is {v1}-years old.'.format(v1=dic_ages['Maria'])) \n",
    "dic_ages['Allyson'] = 20 # Updating Allyson's age\n",
    "print('Updated Allyson age:',dic_ages)\n",
    "dic_ages = dict(sorted(dic_ages.items())) # Sorting the keys\n",
    "print('Ordered dictionary:',dic_ages)\n",
    "del dic_ages['Allyson'] # Removing Allyson from the dictionary\n",
    "print('Reduced dictionary:',dic_ages)"
   ]
  },
  {
   "cell_type": "markdown",
   "id": "1c04c279",
   "metadata": {},
   "source": [
    "## 2.7 Boolean "
   ]
  },
  {
   "cell_type": "code",
   "execution_count": 314,
   "id": "89a7fc54",
   "metadata": {},
   "outputs": [
    {
     "name": "stdout",
     "output_type": "stream",
     "text": [
      "<class 'bool'>\n",
      "Is v1 equals to v2? False\n",
      "Is v1 different from v2? True\n",
      "Is v1 equals to v2? False\n"
     ]
    }
   ],
   "source": [
    "# Boolean data type\n",
    "v1 = 5\n",
    "v2 = 10\n",
    "comp = v1==v2\n",
    "print(type(comp))\n",
    "print('Is v1 equals to v2?',comp)\n",
    "print('Is v1 different from v2?',v1!=v2)\n",
    "print('Is v1 equals to v2?',bool(v1==v2))"
   ]
  },
  {
   "cell_type": "markdown",
   "id": "dfe76dff",
   "metadata": {},
   "source": [
    "## 2.8 Set and Frozenset"
   ]
  },
  {
   "cell_type": "code",
   "execution_count": 361,
   "id": "5a860f73",
   "metadata": {},
   "outputs": [
    {
     "name": "stdout",
     "output_type": "stream",
     "text": [
      "**Creating sets\n",
      "Creating s1 directly: {'basketball', 'baseball', 'football', 'soccer'}\n",
      "Using function set(): {'basketball', 'baseball', 'football', 'soccer'}\n",
      "\n",
      "**Available sets \n",
      "S1: {'basketball', 'baseball', 'football', 'soccer'}\n",
      "S2: {'tennis', 'baseball', 'table_tennis', 'volleyball'}\n"
     ]
    }
   ],
   "source": [
    "# Creating sets\n",
    "# Directly creating set s1\n",
    "print('**Creating sets')\n",
    "s1 = {'soccer','basketball','baseball','football','soccer'}\n",
    "print('Creating s1 directly:',s1)\n",
    "# Creating set s1 using function set()\n",
    "s1 = set(['soccer','basketball','baseball','football','soccer'])\n",
    "print('Using function set():',s1)\n",
    "s2 = {'volleyball','baseball','table_tennis','tennis'}\n",
    "print('\\n**Available sets \\nS1:',s1)\n",
    "print('S2:',s2)"
   ]
  },
  {
   "cell_type": "code",
   "execution_count": 362,
   "id": "ef044db8",
   "metadata": {},
   "outputs": [
    {
     "name": "stdout",
     "output_type": "stream",
     "text": [
      "\n",
      "**Set operations\n",
      "Union: {'basketball', 'football', 'table_tennis', 'soccer', 'volleyball', 'tennis', 'baseball'}\n",
      "Intersection: {'baseball'}\n",
      "Difference (s1-s2): {'basketball', 'football', 'soccer'}\n",
      "Symmetric Difference: {'basketball', 'football', 'table_tennis', 'soccer', 'volleyball', 'tennis'}\n",
      "\n",
      "**Membership\n",
      "Is table_tennis in {'basketball', 'baseball', 'football', 'soccer'} ? False\n",
      "Is table_tennis in {'tennis', 'baseball', 'table_tennis', 'volleyball'} ? True\n"
     ]
    }
   ],
   "source": [
    "# Set operations\n",
    "print('\\n**Set operations')\n",
    "print('Union:',s1|s2) # Union\n",
    "print('Intersection:',s1&s2) # Intersection\n",
    "print('Difference (s1-s2):',s1-s2) # Difference (In s1 but not in s2)\n",
    "print('Symmetric Difference:',s1^s2) # Symmetric difference\n",
    "a = 'table_tennis'\n",
    "# Membership\n",
    "print('\\n**Membership')\n",
    "print('Is', a, 'in', s1,'?', a in s1)\n",
    "print('Is', a, 'in', s2,'?', a in s2)"
   ]
  },
  {
   "cell_type": "markdown",
   "id": "f5553c3f",
   "metadata": {},
   "source": [
    "## 2.9 Bytes "
   ]
  },
  {
   "cell_type": "code",
   "execution_count": 384,
   "id": "7332fe71",
   "metadata": {},
   "outputs": [
    {
     "name": "stdout",
     "output_type": "stream",
     "text": [
      "<class 'bytes'>\n",
      "b'String of bytes'\n",
      "Bytes string length: 15\n",
      "Print a substrings of bytes: b'of'\n"
     ]
    },
    {
     "ename": "TypeError",
     "evalue": "'bytes' object does not support item assignment",
     "output_type": "error",
     "traceback": [
      "\u001b[1;31m---------------------------------------------------------------------------\u001b[0m",
      "\u001b[1;31mTypeError\u001b[0m                                 Traceback (most recent call last)",
      "\u001b[1;32m~\\AppData\\Local\\Temp\\ipykernel_2128\\3295393771.py\u001b[0m in \u001b[0;36m<module>\u001b[1;34m\u001b[0m\n\u001b[0;32m      5\u001b[0m \u001b[0mprint\u001b[0m\u001b[1;33m(\u001b[0m\u001b[1;34m'Bytes string length:'\u001b[0m\u001b[1;33m,\u001b[0m\u001b[0mlen\u001b[0m\u001b[1;33m(\u001b[0m\u001b[0mbstr\u001b[0m\u001b[1;33m)\u001b[0m\u001b[1;33m)\u001b[0m\u001b[1;33m\u001b[0m\u001b[1;33m\u001b[0m\u001b[0m\n\u001b[0;32m      6\u001b[0m \u001b[0mprint\u001b[0m\u001b[1;33m(\u001b[0m\u001b[1;34m'Print a substrings of bytes:'\u001b[0m\u001b[1;33m,\u001b[0m\u001b[0mbstr\u001b[0m\u001b[1;33m[\u001b[0m\u001b[1;36m7\u001b[0m\u001b[1;33m:\u001b[0m\u001b[1;36m9\u001b[0m\u001b[1;33m]\u001b[0m\u001b[1;33m)\u001b[0m\u001b[1;33m\u001b[0m\u001b[1;33m\u001b[0m\u001b[0m\n\u001b[1;32m----> 7\u001b[1;33m \u001b[0mbstr\u001b[0m\u001b[1;33m[\u001b[0m\u001b[1;36m7\u001b[0m\u001b[1;33m:\u001b[0m\u001b[1;36m9\u001b[0m\u001b[1;33m]\u001b[0m \u001b[1;33m=\u001b[0m \u001b[1;34mb'in'\u001b[0m \u001b[1;31m# Bytes are immutable\u001b[0m\u001b[1;33m\u001b[0m\u001b[1;33m\u001b[0m\u001b[0m\n\u001b[0m",
      "\u001b[1;31mTypeError\u001b[0m: 'bytes' object does not support item assignment"
     ]
    }
   ],
   "source": [
    "# Bytes\n",
    "bstr = bytes(b'String of bytes')\n",
    "print(type(bstr))\n",
    "print(bstr)\n",
    "print('Bytes string length:',len(bstr))\n",
    "print('Print a substrings of bytes:',bstr[7:9])\n",
    "bstr[7:9] = b'in' # Bytes are immutable"
   ]
  },
  {
   "cell_type": "code",
   "execution_count": 383,
   "id": "ee5b5b67",
   "metadata": {},
   "outputs": [
    {
     "name": "stdout",
     "output_type": "stream",
     "text": [
      "<class 'bytearray'>\n",
      "Print the original bytearray: bytearray(b'String of bytes')\n",
      "Bytearray string length: 15\n",
      "Print a substrings of bytearray: bytearray(b'of')\n",
      "Print the mutated bytearray: bytearray(b'String in bytes')\n",
      "Print the original bytearray: bytearray(b'String of bytes')\n"
     ]
    }
   ],
   "source": [
    "# Bytearray\n",
    "bastr = bytearray(b'String of bytes')\n",
    "print(type(bastr))\n",
    "print('Print the original bytearray:',bastr)\n",
    "print('Bytearray string length:',len(bastr))\n",
    "print('Print a substrings of bytearray:',bastr[7:9])\n",
    "bastr[7:9] = b'in' # Bytearrays are mutable\n",
    "print('Print the mutated bytearray:',bastr)\n",
    "print('Print the original bytearray:',bastr.replace(b' in',b' of'))"
   ]
  },
  {
   "cell_type": "markdown",
   "id": "29ab3bff",
   "metadata": {},
   "source": [
    "## 2.10 None "
   ]
  },
  {
   "cell_type": "code",
   "execution_count": 389,
   "id": "60dc97d9",
   "metadata": {},
   "outputs": [
    {
     "name": "stdout",
     "output_type": "stream",
     "text": [
      "None\n",
      "<class 'NoneType'>\n"
     ]
    }
   ],
   "source": [
    "# None\n",
    "v1 = None\n",
    "print(v1)\n",
    "print(type(v1))"
   ]
  },
  {
   "cell_type": "markdown",
   "id": "dbc78a0e",
   "metadata": {},
   "source": [
    "# 3. Control Structures  "
   ]
  },
  {
   "cell_type": "markdown",
   "id": "f335cfb8",
   "metadata": {},
   "source": [
    "## 3.1 Decision Control Structures"
   ]
  },
  {
   "cell_type": "code",
   "execution_count": 396,
   "id": "4ebda975",
   "metadata": {},
   "outputs": [
    {
     "name": "stdout",
     "output_type": "stream",
     "text": [
      "Anna is of legal age\n",
      "End of code\n"
     ]
    }
   ],
   "source": [
    "# If statement\n",
    "dic_ages = {'Anna':27, 'Maria':33,'Peter':42,'Robert':35}\n",
    "if dic_ages['Anna'] > 18:\n",
    "    print('Anna is of legal age')\n",
    "print('End of code')"
   ]
  },
  {
   "cell_type": "code",
   "execution_count": 402,
   "id": "d7f6a0aa",
   "metadata": {},
   "outputs": [
    {
     "name": "stdout",
     "output_type": "stream",
     "text": [
      "*Anna is 27 years old*\n",
      "Anna is of legal age\n",
      "End of code\n",
      "\n",
      "*Anna is 17 years old*\n",
      "Anna is underage\n",
      "End of code\n"
     ]
    }
   ],
   "source": [
    "# If-else statement\n",
    "# Condition 1\n",
    "dic_ages = {'Anna':27, 'Maria':33,'Peter':42,'Robert':35}\n",
    "print('*Anna is',dic_ages['Anna'],'years old*')\n",
    "if dic_ages['Anna'] > 18:\n",
    "    print('Anna is of legal age')\n",
    "else:\n",
    "    print('Anna is underage')\n",
    "print('End of code') # New code block\n",
    "\n",
    "# Condition 2\n",
    "dic_ages = {'Anna':17, 'Maria':33,'Peter':42,'Robert':35}\n",
    "print('\\n*Anna is',dic_ages['Anna'],'years old*')\n",
    "if dic_ages['Anna'] > 18:\n",
    "    print('Anna is of legal age')\n",
    "else:\n",
    "    print('Anna is underage')\n",
    "print('End of code') # New code block"
   ]
  },
  {
   "cell_type": "code",
   "execution_count": 407,
   "id": "b4f34597",
   "metadata": {},
   "outputs": [
    {
     "name": "stdout",
     "output_type": "stream",
     "text": [
      "*Anna is 27 years old*\n",
      "*Maria is 73 years old*\n",
      "Maria is an older adult and Anna is an adult\n",
      "End of code\n",
      "\n",
      "*Anna is 27 years old*\n",
      "*Maria is 63 years old*\n",
      "End of code\n"
     ]
    }
   ],
   "source": [
    "# If-elif statement\n",
    "# Condition 1\n",
    "dic_ages = {'Anna':27, 'Maria':73,'Peter':42,'Robert':35}\n",
    "print('*Anna is',dic_ages['Anna'],'years old*')\n",
    "print('*Maria is',dic_ages['Maria'],'years old*')\n",
    "if dic_ages['Anna'] < 18:\n",
    "    print('Anna is underage')\n",
    "elif dic_ages['Maria'] >= 65:\n",
    "    print('Maria is an older adult and Anna is an adult')\n",
    "print('End of code') # New code block\n",
    "\n",
    "# Condition 2\n",
    "dic_ages = {'Anna':27, 'Maria':63,'Peter':42,'Robert':35}\n",
    "print('\\n*Anna is',dic_ages['Anna'],'years old*')\n",
    "print('*Maria is',dic_ages['Maria'],'years old*')\n",
    "if dic_ages['Anna'] < 18:\n",
    "    print('Anna is underage')\n",
    "elif dic_ages['Maria'] >= 65:\n",
    "    print('Maria is an older adult')\n",
    "print('End of code') # New code block"
   ]
  },
  {
   "cell_type": "code",
   "execution_count": 408,
   "id": "442a012b",
   "metadata": {},
   "outputs": [
    {
     "name": "stdout",
     "output_type": "stream",
     "text": [
      "*Maria is 73 years old*\n",
      "Maria is an adult\n",
      "Maria is an older adult\n",
      "End of code\n"
     ]
    }
   ],
   "source": [
    "# Nested if statements\n",
    "dic_ages = {'Anna':27, 'Maria':73,'Peter':42,'Robert':35}\n",
    "print('*Maria is',dic_ages['Maria'],'years old*')\n",
    "if dic_ages['Maria'] >= 18:\n",
    "    print('Maria is an adult')\n",
    "    if dic_ages['Maria'] >= 65:\n",
    "        print('Maria is an older adult')\n",
    "print('End of code') # New code block"
   ]
  },
  {
   "cell_type": "code",
   "execution_count": 405,
   "id": "016b07ab",
   "metadata": {},
   "outputs": [
    {
     "name": "stdout",
     "output_type": "stream",
     "text": [
      "*Anna is 27 years old*\n",
      "*Maria is 73 years old*\n",
      "Maria is an older adult and Anna is an adult\n",
      "End of code\n",
      "\n",
      "*Anna is 27 years old*\n",
      "*Maria is 63 years old*\n",
      "Maria and Anna are adults\n",
      "End of code\n"
     ]
    }
   ],
   "source": [
    "# If-elif-else statement\n",
    "# Condition 1\n",
    "dic_ages = {'Anna':27, 'Maria':73,'Peter':42,'Robert':35}\n",
    "print('*Anna is',dic_ages['Anna'],'years old*')\n",
    "print('*Maria is',dic_ages['Maria'],'years old*')\n",
    "if dic_ages['Anna'] < 18:\n",
    "    print('Anna is underage')\n",
    "elif dic_ages['Maria'] >= 65:\n",
    "    print('Maria is an older adult and Anna is an adult')\n",
    "else:\n",
    "    print('Maria is an adult')\n",
    "print('End of code') # New code block\n",
    "\n",
    "# Condition 2\n",
    "dic_ages = {'Anna':27, 'Maria':63,'Peter':42,'Robert':35}\n",
    "print('\\n*Anna is',dic_ages['Anna'],'years old*')\n",
    "print('*Maria is',dic_ages['Maria'],'years old*')\n",
    "if dic_ages['Anna'] < 18:\n",
    "    print('Anna is underage')\n",
    "elif dic_ages['Maria'] >= 65:\n",
    "    print('Maria is an older adult')\n",
    "else:\n",
    "    print('Maria and Anna are adults')\n",
    "print('End of code') # New code block"
   ]
  },
  {
   "cell_type": "markdown",
   "id": "52f17e5c",
   "metadata": {},
   "source": [
    "## 3.2 Repetition Control Structures"
   ]
  },
  {
   "cell_type": "markdown",
   "id": "c4a4a8ca",
   "metadata": {},
   "source": [
    "### While Loop "
   ]
  },
  {
   "cell_type": "code",
   "execution_count": 34,
   "id": "f2ca10e8",
   "metadata": {},
   "outputs": [
    {
     "name": "stdout",
     "output_type": "stream",
     "text": [
      "1\n",
      "2\n",
      "3\n",
      "4\n",
      "5\n",
      "The list is: [1, 2, 3, 4, 5]\n"
     ]
    }
   ],
   "source": [
    "# While statement (creating a list)\n",
    "stop = 5; it = 0; v = []\n",
    "while it < stop:\n",
    "    it = it + 1\n",
    "    v.append(it)\n",
    "    print(it) # Print every iteration\n",
    "print('The list is:',v) # Print after the while loop"
   ]
  },
  {
   "cell_type": "code",
   "execution_count": 35,
   "id": "3ea569d6",
   "metadata": {},
   "outputs": [
    {
     "name": "stdout",
     "output_type": "stream",
     "text": [
      "List s1: ['soccer', 'basketball', 'tennis', 'table_tennis', 'football', 'baseball', 'volleyball']\n",
      "The number of items different from table_tennis is: 6\n"
     ]
    }
   ],
   "source": [
    "# While statement (counting and conditional statement)\n",
    "s1 = ['soccer', 'basketball', 'tennis', 'table_tennis', 'football', \n",
    "      'baseball', 'volleyball']\n",
    "it = 0; soma = 0\n",
    "print('List s1:',s1)\n",
    "while it < len(s1)-1:\n",
    "    if s1[it] != 'table_tennis':\n",
    "        soma = soma + 1\n",
    "    it = it + 1\n",
    "print('The number of items different from table_tennis is:', it)"
   ]
  },
  {
   "cell_type": "markdown",
   "id": "740ab139",
   "metadata": {},
   "source": [
    "### For Loop "
   ]
  },
  {
   "cell_type": "code",
   "execution_count": 20,
   "id": "e533e00c",
   "metadata": {},
   "outputs": [
    {
     "name": "stdout",
     "output_type": "stream",
     "text": [
      "1\n",
      "2\n",
      "3\n",
      "4\n",
      "5\n",
      "The list is: [1, 2, 3, 4, 5]\n"
     ]
    }
   ],
   "source": [
    "# For statement (creating a list)\n",
    "stop = 5; it = 0; v = []\n",
    "for it in range(stop):\n",
    "    it = it + 1\n",
    "    v.append(it)\n",
    "    print(it) # Print every iteration\n",
    "print('The list is:',v) # Print after the while loop"
   ]
  },
  {
   "cell_type": "code",
   "execution_count": 22,
   "id": "5c5afd53",
   "metadata": {},
   "outputs": [
    {
     "name": "stdout",
     "output_type": "stream",
     "text": [
      "String p1: My name is\n",
      "M\n",
      "y\n",
      " \n",
      "n\n",
      "a\n",
      "m\n",
      "e\n",
      " \n",
      "i\n",
      "s\n"
     ]
    }
   ],
   "source": [
    "# For statement (iterating over a string)\n",
    "p1 = 'My name is'\n",
    "print('String p1:',p1)\n",
    "for i in p1:\n",
    "    print(i)"
   ]
  },
  {
   "cell_type": "code",
   "execution_count": 27,
   "id": "bcf913b7",
   "metadata": {},
   "outputs": [
    {
     "name": "stdout",
     "output_type": "stream",
     "text": [
      "List s1: ['soccer', 'basketball', 'tennis', 'table_tennis', 'football', 'baseball', 'volleyball']\n",
      "soccer\n",
      "basketball\n",
      "tennis\n",
      "table_tennis\n",
      "football\n",
      "baseball\n",
      "volleyball\n",
      "<class 'str'>\n"
     ]
    }
   ],
   "source": [
    "# For statement (iterating over a list)\n",
    "s1 = ['soccer', 'basketball', 'tennis', 'table_tennis', 'football', \n",
    "      'baseball', 'volleyball']\n",
    "print('List s1:',s1)\n",
    "for i in s1:\n",
    "    print(i)\n",
    "print(type(i))"
   ]
  },
  {
   "cell_type": "code",
   "execution_count": 36,
   "id": "55d51c86",
   "metadata": {},
   "outputs": [
    {
     "name": "stdout",
     "output_type": "stream",
     "text": [
      "Tuple mytuple: ('There', 'are', 50, 'states', 'in', 'USA')\n",
      "There\n",
      "are\n",
      "50\n",
      "states\n",
      "in\n",
      "USA\n",
      "<class 'str'>\n"
     ]
    }
   ],
   "source": [
    "# For statement (iterating over a tuple)\n",
    "mytuple = ('There','are',50,'states','in','USA')\n",
    "print('Tuple mytuple:',mytuple)\n",
    "for i in mytuple:\n",
    "    print(i)\n",
    "print(type(i))"
   ]
  },
  {
   "cell_type": "code",
   "execution_count": 32,
   "id": "7c1e325d",
   "metadata": {},
   "outputs": [
    {
     "name": "stdout",
     "output_type": "stream",
     "text": [
      "Dictionary dic_ages: {'Anna': 27, 'Maria': 33, 'Peter': 42, 'Robert': 35}\n",
      "Anna 27\n",
      "Maria 33\n",
      "Peter 42\n",
      "Robert 35\n",
      "<class 'str'> <class 'int'>\n"
     ]
    }
   ],
   "source": [
    "# For statement (iterating over a dictionary)\n",
    "dic_ages = {'Anna':27, 'Maria':33,'Peter':42,'Robert':35}\n",
    "print('Dictionary dic_ages:',dic_ages)\n",
    "for i in dic_ages:\n",
    "    print('%s %d' % (i,dic_ages[i]))\n",
    "print(type(i),type(dic_ages[i]))"
   ]
  },
  {
   "cell_type": "code",
   "execution_count": 33,
   "id": "f7c2829d",
   "metadata": {},
   "outputs": [
    {
     "name": "stdout",
     "output_type": "stream",
     "text": [
      "Set s1: {'basketball', 'football', 'baseball', 'soccer'}\n",
      "basketball\n",
      "football\n",
      "baseball\n",
      "soccer\n",
      "<class 'str'>\n"
     ]
    }
   ],
   "source": [
    "# For statement (iterating over a set)\n",
    "s1 = {'soccer','basketball','baseball','football','soccer'}\n",
    "print('Set s1:',s1)\n",
    "for i in s1:\n",
    "    print(i)\n",
    "print(type(i))"
   ]
  },
  {
   "cell_type": "markdown",
   "id": "4e9a897f",
   "metadata": {},
   "source": [
    "# 4. Functions"
   ]
  },
  {
   "cell_type": "code",
   "execution_count": 39,
   "id": "16205062",
   "metadata": {},
   "outputs": [
    {
     "name": "stdout",
     "output_type": "stream",
     "text": [
      "I am a data analyst\n"
     ]
    }
   ],
   "source": [
    "# Function example 1\n",
    "def my_first_function():\n",
    "    print(\"I am a data analyst\")\n",
    "my_first_function() # Call to function my_first_function"
   ]
  },
  {
   "cell_type": "code",
   "execution_count": 45,
   "id": "6e5eb678",
   "metadata": {},
   "outputs": [
    {
     "name": "stdout",
     "output_type": "stream",
     "text": [
      "Enter your name: Leo Silva\n",
      "Your name is Leo Silva\n"
     ]
    }
   ],
   "source": [
    "# Function example 2\n",
    "def my_func():\n",
    "    name = input('Enter your name: ')\n",
    "    print('Your name is',name)\n",
    "my_func()"
   ]
  },
  {
   "cell_type": "code",
   "execution_count": 67,
   "id": "17ec1993",
   "metadata": {},
   "outputs": [
    {
     "name": "stdout",
     "output_type": "stream",
     "text": [
      "*Function calculates the area of a square*\n",
      "Input the size of the square side:3\n",
      "The area of the square is 9.0 sqmt\n"
     ]
    },
    {
     "data": {
      "text/plain": [
       "9.0"
      ]
     },
     "execution_count": 67,
     "metadata": {},
     "output_type": "execute_result"
    }
   ],
   "source": [
    "# Function calculates the area of a square\n",
    "def fsq_area(sq_side:float):\n",
    "    sq_area = sq_side*sq_side\n",
    "    print('The area of the square is',sq_area,'sqmt')\n",
    "    return(sq_area)\n",
    "\n",
    "print('*Function calculates the area of a square*')\n",
    "sq_side = float(input('Size of the square side:'))\n",
    "fsq_area(sq_side)"
   ]
  },
  {
   "cell_type": "code",
   "execution_count": 76,
   "id": "a927ecc4",
   "metadata": {},
   "outputs": [
    {
     "name": "stdout",
     "output_type": "stream",
     "text": [
      "*Function determines if a number is even or odd*\n",
      "Input the number:33\n",
      "Answer: number 33 is odd\n"
     ]
    }
   ],
   "source": [
    "# Function determines if a number is even or odd\n",
    "def feven_odd(val:int):\n",
    "    if (val % 2 == 0):\n",
    "        print('Answer: number',val,'is even')\n",
    "    else:\n",
    "        print('Answer: number',val,'is odd')\n",
    "        \n",
    "print('*Function determines if a number is even or odd*')\n",
    "num = int(input('Input the number:'))\n",
    "feven_odd(num)"
   ]
  },
  {
   "cell_type": "code",
   "execution_count": 75,
   "id": "1c6093d2",
   "metadata": {},
   "outputs": [
    {
     "name": "stdout",
     "output_type": "stream",
     "text": [
      "{'Pietra': 50}\n"
     ]
    }
   ],
   "source": [
    "# Function using keyword arguments allows the user to enter the \n",
    "# corresponding argument for each keyword independently of the order\n",
    "def fpd(name:str,age:int):\n",
    "    dic_ages = {}\n",
    "    dic_ages[name] = age\n",
    "    print(dic_ages)\n",
    "\n",
    "fpd(age=50, name='Pietra')"
   ]
  },
  {
   "cell_type": "code",
   "execution_count": 77,
   "id": "d56f4c6d",
   "metadata": {},
   "outputs": [
    {
     "name": "stdout",
     "output_type": "stream",
     "text": [
      "*Function fills in a dataset with personal data*\n",
      "Number of users to save the data:3\n",
      "Name of user:Rob\n",
      "Age of user:33\n",
      "Name of user:Beth\n",
      "Age of user:40\n",
      "Name of user:Gina\n",
      "Age of user:29\n",
      "Saved dataset (dict): {'Rob': 33, 'Beth': 40, 'Gina': 29}\n"
     ]
    }
   ],
   "source": [
    "# Function fills in a dataset with personal data\n",
    "def fpd(num): # Function personal data (fpd)\n",
    "    dic_ages = {}\n",
    "    for i in range(num):\n",
    "        name = str(input('Name of user:'))\n",
    "        age = int(input('Age of user:'))\n",
    "        dic_ages[name] = age\n",
    "    print('Saved dataset (dict):',dic_ages)\n",
    "\n",
    "print('*Function fills in a dataset with personal data*')\n",
    "num = int(input('Number of users to save the data:'))\n",
    "fpd(num)"
   ]
  }
 ],
 "metadata": {
  "kernelspec": {
   "display_name": "Python 3 (ipykernel)",
   "language": "python",
   "name": "python3"
  },
  "language_info": {
   "codemirror_mode": {
    "name": "ipython",
    "version": 3
   },
   "file_extension": ".py",
   "mimetype": "text/x-python",
   "name": "python",
   "nbconvert_exporter": "python",
   "pygments_lexer": "ipython3",
   "version": "3.9.12"
  }
 },
 "nbformat": 4,
 "nbformat_minor": 5
}
