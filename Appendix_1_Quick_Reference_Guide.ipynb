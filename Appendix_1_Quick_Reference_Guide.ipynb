{
 "cells": [
  {
   "cell_type": "markdown",
   "id": "f40875aa",
   "metadata": {},
   "source": [
    "# Appendix 01: Python - A Quick Reference Guide\n",
    "## Prof. Leandro Nunes de Castro"
   ]
  },
  {
   "cell_type": "code",
   "execution_count": null,
   "id": "2c6faed5",
   "metadata": {},
   "outputs": [],
   "source": [
    "# This content was created as a supporting material for the book\n",
    "# EXPLORATORY DATA ANALYSIS: Descriptive Analysis, Visualization and Dashboard Design (with codes in Python)\n",
    "# authored by Leandro de Castro (c), 2023-2024\n",
    "# All rights reserved\n",
    "\n",
    "# Appendix 1 - Python: A Quick Reference Guide"
   ]
  },
  {
   "cell_type": "markdown",
   "id": "0793f10e",
   "metadata": {},
   "source": [
    "# 2. Basic Syntax in Python"
   ]
  },
  {
   "cell_type": "markdown",
   "id": "37a33551",
   "metadata": {},
   "source": [
    "## 2.1 Assigning Variables "
   ]
  },
  {
   "cell_type": "code",
   "execution_count": null,
   "id": "40ca5d81",
   "metadata": {},
   "outputs": [],
   "source": [
    "# Declaring and initializing variables\n",
    "v1 = 1974\n",
    "v2 = 12.34\n",
    "v3 = \"I am a data analyst\"\n",
    "# Printing (displaying) variables\n",
    "print('Type(v1)',type(v1))\n",
    "print('Type(v2)',type(v2))\n",
    "print('Type(v3)',type(v3))"
   ]
  },
  {
   "cell_type": "code",
   "execution_count": null,
   "id": "28c3b830",
   "metadata": {},
   "outputs": [],
   "source": [
    "# Casting and changing double for single quotes \n",
    "v1 = float(1974)\n",
    "v2 = int(12.34)\n",
    "v3 = str('I am a data analyst')  # Single quotes\n",
    "# Printing (displaying) variables\n",
    "print('**Casting:')\n",
    "print('Float v1: ',v1)\n",
    "print('Int v2: ',v2)\n",
    "# Chained assignments\n",
    "v1 = v2 = v3 = 1974\n",
    "print('**Chained assignments:')\n",
    "print(v1, v2, v3)\n",
    "v1, v2, v3 = 10, 20, 30\n",
    "print('**Multiple assignments simultaneously:')\n",
    "print(v1,v2,v3)"
   ]
  },
  {
   "cell_type": "code",
   "execution_count": null,
   "id": "0e1bcc35",
   "metadata": {},
   "outputs": [],
   "source": [
    "# Keyword generation and testing\n",
    "help('keywords')\n",
    "import keyword # Import the keyword.py library\n",
    "print('false is a keyword?',keyword.iskeyword('false'))\n",
    "print('False is a keyword?',keyword.iskeyword('False'))\n",
    "print('elif is a keyword?',keyword.iskeyword('elif'))"
   ]
  },
  {
   "cell_type": "code",
   "execution_count": null,
   "id": "15a2f3f3",
   "metadata": {},
   "outputs": [],
   "source": [
    "# Comparisons\n",
    "v1 = 1974\n",
    "v2 = 12.34\n",
    "print('Is', v1, '<', v2,'?',v1 < v2) # Strictly less than\n",
    "print('Is', v1, '<=', v2,'?',v1 <= v2) # Less than or equal to\n",
    "print('Is', v1, '>', v2,'?',v1 > v2) # Strictly greater than\n",
    "print('Is', v1, '>=', v2,'?',v1 >= v2) # Greater than or equal to\n",
    "print('Is', v1, '==', v2,'?',v1 == v2) # Equal to\n",
    "print('Is', v1, '!=', v2,'?',v1 != v2) # Different from\n",
    "print('Is', v1, 'a float number?',v1 is float) # Identity\n",
    "print('Is', v1, 'not a float number?',v1 is not float) # Identity negation"
   ]
  },
  {
   "cell_type": "markdown",
   "id": "55434219",
   "metadata": {},
   "source": [
    "## 2.2 Data Input and Output "
   ]
  },
  {
   "cell_type": "code",
   "execution_count": null,
   "id": "50ace279",
   "metadata": {},
   "outputs": [],
   "source": [
    "# Data input from a user\n",
    "age = input('What is your age? ')\n",
    "print('Default type: ',type(age))\n",
    "age = float(age) # Converting the string into a float type\n",
    "print('Converted type: ',type(age))"
   ]
  },
  {
   "cell_type": "code",
   "execution_count": null,
   "id": "3199e0fe",
   "metadata": {},
   "outputs": [],
   "source": [
    "pwd # Print the working directory (folder)"
   ]
  },
  {
   "cell_type": "code",
   "execution_count": null,
   "id": "1b567ebc",
   "metadata": {},
   "outputs": [],
   "source": [
    "# Opening and closing files using the try-finally block \n",
    "dinsect = open('insect.csv')\n",
    "try:\n",
    "    # File processing is included here\n",
    "    print(dinsect.read()) # Read and print the whole content of the file\n",
    "finally:\n",
    "    dinsect.close()"
   ]
  },
  {
   "cell_type": "code",
   "execution_count": null,
   "id": "5ad19836",
   "metadata": {},
   "outputs": [],
   "source": [
    "# Opening and closing files using the with statement \n",
    "# This code reads the first three lines of the file\n",
    "with open('insect.csv') as dinsect:\n",
    "    # File processing is included here\n",
    "    print(dinsect.readline())\n",
    "    print(dinsect.readline())\n",
    "    print(dinsect.readline())"
   ]
  },
  {
   "cell_type": "code",
   "execution_count": null,
   "id": "dee63629",
   "metadata": {},
   "outputs": [],
   "source": [
    "# Opening a dataset using a specific library (Pandas)\n",
    "import pandas as pd  # Pandas is a data manipulation and analysis library\n",
    "\n",
    "# Loading the UCI 'Mammo' dataset\n",
    "# https://archive.ics.uci.edu/ml/datasets/Mammographic+Mass\n",
    "dmammo = pd.read_csv('mammographic_masses_nominal.csv')\n",
    "print(dmammo.shape)\n",
    "print(dmammo.head)\n",
    "print(type(dmammo))"
   ]
  },
  {
   "cell_type": "code",
   "execution_count": null,
   "id": "ce7aa77b",
   "metadata": {},
   "outputs": [],
   "source": [
    "# Illustrating some common uses of function print()\n",
    "print('Hello, world!')\n",
    "import os  # Provides functions to interact with the operating system\n",
    "print() # Print a blanck line\n",
    "print('Hi, '+ os.getlogin() +', welcome to Python for dummies!') \n",
    "print('Hi', os.getlogin(), 'welcome to Python for dummies!', \n",
    "      sep=\", \") # Using a specific separator"
   ]
  },
  {
   "cell_type": "code",
   "execution_count": null,
   "id": "81d0c4d1",
   "metadata": {},
   "outputs": [],
   "source": [
    "# Using the print() function to write directly within a file\n",
    "with open('emptyfile.txt', mode='r+') as femptyfile:\n",
    "    print(femptyfile.read()) # Print the content of the file before writing\n",
    "    print('Writing in the empty file', file=femptyfile)"
   ]
  },
  {
   "cell_type": "code",
   "execution_count": null,
   "id": "11dc9e61",
   "metadata": {},
   "outputs": [],
   "source": [
    "# Using the write() method to write within a file\n",
    "with open('emptyfile.txt', mode='r+') as femptyfile:\n",
    "    print(femptyfile.read()) # Print the content of the file before writing\n",
    "    femptyfile.write('Writing with the write() method\\n')"
   ]
  },
  {
   "cell_type": "code",
   "execution_count": null,
   "id": "73ee68ff",
   "metadata": {},
   "outputs": [],
   "source": [
    "# Using the print function with the format() method\n",
    "str = 'My name is {0}, I am {1} years old, and I am {2}.'\n",
    "print(str.format('Leo', 49, \"married\"))  # Format() with object str\n",
    "myname = 'Leo'\n",
    "age = 49\n",
    "mstatus = \"married\"\n",
    "\n",
    "# Printing (displaying) variables\n",
    "print('\\n**Using format() within the print function')\n",
    "print('My name is {v1}, I am {v2} years old, and I am {v3}.'\n",
    "      .format(v1=myname,v2=age,v3=mstatus))"
   ]
  },
  {
   "cell_type": "code",
   "execution_count": null,
   "id": "0e14ebdc",
   "metadata": {},
   "outputs": [],
   "source": [
    "# Indentation in Python\n",
    "var1 = int(input('Enter an integer value from 1 to 10: '))\n",
    "if var1 > 5:\n",
    "    print('The value is greater than 5')\n",
    "    print('*If* tested')\n",
    "else:\n",
    "    print('The value is smaller than 5')\n",
    "    print('*Else* tested')\n",
    "print('Program finished (always printed)')"
   ]
  },
  {
   "cell_type": "markdown",
   "id": "ab5e2f44",
   "metadata": {},
   "source": [
    "# 3. Data Types in Python"
   ]
  },
  {
   "cell_type": "code",
   "execution_count": null,
   "id": "30dd03e2",
   "metadata": {},
   "outputs": [],
   "source": [
    "var = 'Exploratory Data Analysis'; print(type(var),'Example: ',var)\n",
    "var = 10; print(type(var),'Example: ',var)\n",
    "var = 10.35; print(type(var),'Example: ',var)\n",
    "var = complex(1,2); print(type(var),'Example: ',var)\n",
    "var = ['one','two', 'three']; print(type(var),'Example: ',var)\n",
    "var = ('one','two', 'three'); print(type(var),'Example: ',var)\n",
    "var = range(10); print(type(var),'Example: ',var)\n",
    "var = {'one','two', 'three'}; print(type(var),'Example: ',var)\n",
    "var = {'Temperature' : '70', 'Scale' : 'Farenheit'}; print(type(var),\n",
    "                                                           'Example: ',var)\n",
    "var = frozenset({'one','two', 'three'}); print(type(var),'Example: ',var)\n",
    "var = False; print(type(var),'Example: ',var)\n",
    "var = b'one'; print(type(var),'Example: ',var)\n",
    "var = bytearray(10); print(type(var),'Example: ',var)\n",
    "var = memoryview(bytes(10)); print(type(var),'Example: ',var)\n",
    "var = None; print(type(var),'Example: ',var)"
   ]
  },
  {
   "cell_type": "markdown",
   "id": "ba120ab6",
   "metadata": {},
   "source": [
    "## 2.1 Numeric "
   ]
  },
  {
   "cell_type": "code",
   "execution_count": null,
   "id": "222fc915",
   "metadata": {},
   "outputs": [],
   "source": [
    "# Numeric data types\n",
    "n1 = 10\n",
    "n2 = 5.5\n",
    "n3 = 1 + 2j\n",
    "print(type(n1),type(n2),type(n3))\n",
    "print(float(n1)) # Convert only to print\n",
    "print(int(n2)) # Convert only to print\n",
    "# Main arithmetic operations\n",
    "print('n1+n2 =',n1+n2)\n",
    "print('n1-n2 =',n1-n2)\n",
    "print('n1/n2 =',n1/n2)\n",
    "print('Floored: n1//n2 =',n1//n2) # Floored quotient\n",
    "print('Remainder: n1%n2 =',n1%n2) # Remainder\n",
    "print('n1*n2 =',n1*n2)\n",
    "print('n1^2 =',n1**2)\n",
    "print('pow(n1,2) =',pow(n1,2))"
   ]
  },
  {
   "cell_type": "markdown",
   "id": "52436e02",
   "metadata": {},
   "source": [
    "## 3.2 Strings "
   ]
  },
  {
   "cell_type": "code",
   "execution_count": null,
   "id": "517de85d",
   "metadata": {},
   "outputs": [],
   "source": [
    "# Strings: accessing, concatenating, replacing\n",
    "p1 = 'My name is'\n",
    "p2 = 'Leandro de Castro'\n",
    "print(p1[0:2]) # Accessing the first two characters\n",
    "print(p1[:2]) # Accessing the first two characters (alternative)\n",
    "print(p1[3:7]) # Accessing the substring 'name' (chars 4 to 7)\n",
    "print(p2[-6:]) # Backward accessing the substring 'Castro'\n",
    "p3 = p1+' '+p2 # Concatenating strings\n",
    "print(p3)\n",
    "ind = p3.find('name') # Find the index of a string within p3\n",
    "print(ind)\n",
    "p4 = p2.replace('de Castro','Silva')\n",
    "print('My new name is',p4) # Replace a substring"
   ]
  },
  {
   "cell_type": "markdown",
   "id": "7251a4ae",
   "metadata": {},
   "source": [
    "## 3.3 Lists"
   ]
  },
  {
   "cell_type": "code",
   "execution_count": null,
   "id": "128b1546",
   "metadata": {},
   "outputs": [],
   "source": [
    "# Lists: declaring, reading, and operating \n",
    "mylist = ['There','are',50,'states','in','USA']\n",
    "print(type(mylist)) # Print the data type\n",
    "print(mylist) # Print the whole list\n",
    "print(mylist[0],mylist[2],mylist[5]) # Print items in a list\n",
    "print(len(mylist)) # List length\n",
    "mylist.append(30.2) # Append an item to the end of the list\n",
    "print(mylist)\n",
    "mylist.remove(30.2) # Remove an item from the list\n",
    "print(mylist)\n",
    "mylist.pop(2) # Remove item at position 3\n",
    "print(mylist)\n",
    "mylist.insert(2,50) # Insert item '50' at index 3\n",
    "print(mylist)\n",
    "print(mylist.count('states')) # Number of times the word 'states' appear\n",
    "mylist.reverse(); print(mylist) # Reversing the list"
   ]
  },
  {
   "cell_type": "markdown",
   "id": "488707e2",
   "metadata": {},
   "source": [
    "## 3.4 Tuples"
   ]
  },
  {
   "cell_type": "code",
   "execution_count": null,
   "id": "ce7e8829",
   "metadata": {},
   "outputs": [],
   "source": [
    "# Tuples: declaring, reading, and operating \n",
    "mytuple = ('There','are',50,'states','in','USA')\n",
    "print(type(mytuple)) # Print the data type\n",
    "print(mytuple) # Print the whole tuple\n",
    "print(mytuple[0],mytuple[2],mytuple[5]) # Print items in a tuple\n",
    "print(len(mytuple)) # Tuple length\n",
    "newtuple = ('and',67,'counties','in','Florida.')\n",
    "fulltuple = mytuple + newtuple # Concatenate tuples\n",
    "print(fulltuple)\n",
    "nestedtuple = (mytuple,newtuple)\n",
    "print(nestedtuple) # Nested tuple\n",
    "newtuple[1] = 50 # Tuples do not support item assignment"
   ]
  },
  {
   "cell_type": "markdown",
   "id": "6fc96062",
   "metadata": {},
   "source": [
    "## 3.5 Range"
   ]
  },
  {
   "cell_type": "code",
   "execution_count": null,
   "id": "9d6984cf",
   "metadata": {},
   "outputs": [],
   "source": [
    "# Range\n",
    "rg = range(10) # Create the sequence\n",
    "print(type(rg)) # Print the type\n",
    "print(list(rg)) # Transform in a list\n",
    "print(tuple(rg)) # Transform in a tuple\n",
    "rg = range(0,10,2) # Steps of 2\n",
    "print(list(rg))\n",
    "rg = range(0,-10,-1) # Steps of -1\n",
    "print(list(rg))\n",
    "print(rg[2]) # Accessing an item by its index"
   ]
  },
  {
   "cell_type": "markdown",
   "id": "050300e1",
   "metadata": {},
   "source": [
    "## 3.6 Dictionary "
   ]
  },
  {
   "cell_type": "code",
   "execution_count": null,
   "id": "fc034807",
   "metadata": {},
   "outputs": [],
   "source": [
    "# Dictionaries (dict)\n",
    "dic_ages = {'Anna':27, 'Maria':33,'Peter':42,'Robert':35}\n",
    "print('Original dictionary:',dic_ages)\n",
    "dic_ages['Allyson'] = 29 # Adding a person to the dict\n",
    "print('Increased dictionary:',dic_ages)\n",
    "keys = dic_ages.keys()\n",
    "print('Keys:',keys) # Print all keys\n",
    "print('Values:',dic_ages.values()) # Print all values\n",
    "# Print value for key = Maria\n",
    "print('Maria is {v1}-years old.'.format(v1=dic_ages['Maria'])) \n",
    "dic_ages['Allyson'] = 20 # Updating Allyson's age\n",
    "print('Updated Allyson age:',dic_ages)\n",
    "dic_ages = dict(sorted(dic_ages.items())) # Sorting the keys\n",
    "print('Ordered dictionary:',dic_ages)\n",
    "del dic_ages['Allyson'] # Removing Allyson from the dictionary\n",
    "print('Reduced dictionary:',dic_ages)"
   ]
  },
  {
   "cell_type": "markdown",
   "id": "1c04c279",
   "metadata": {},
   "source": [
    "## 3.7 Boolean "
   ]
  },
  {
   "cell_type": "code",
   "execution_count": null,
   "id": "89a7fc54",
   "metadata": {},
   "outputs": [],
   "source": [
    "# Boolean data type\n",
    "v1 = 5\n",
    "v2 = 10\n",
    "comp = v1==v2\n",
    "print(type(comp))\n",
    "print('Is v1 equals to v2?',comp)\n",
    "print('Is v1 different from v2?',v1!=v2)\n",
    "print('Is v1 equals to v2?',bool(v1==v2))"
   ]
  },
  {
   "cell_type": "markdown",
   "id": "dfe76dff",
   "metadata": {},
   "source": [
    "## 3.8 Set and Frozenset"
   ]
  },
  {
   "cell_type": "code",
   "execution_count": null,
   "id": "5a860f73",
   "metadata": {},
   "outputs": [],
   "source": [
    "# Creating sets\n",
    "# Directly creating set s1\n",
    "print('**Creating sets')\n",
    "s1 = {'soccer','basketball','baseball','football','soccer'}\n",
    "print('Creating s1 directly:',s1)\n",
    "# Creating set s1 using function set()\n",
    "s1 = set(['soccer','basketball','baseball','football','soccer'])\n",
    "print('Using function set():',s1)\n",
    "s2 = {'volleyball','baseball','table_tennis','tennis'}\n",
    "print('\\n**Available sets \\nS1:',s1)\n",
    "print('S2:',s2)"
   ]
  },
  {
   "cell_type": "code",
   "execution_count": null,
   "id": "ef044db8",
   "metadata": {},
   "outputs": [],
   "source": [
    "# Set operations\n",
    "print('\\n**Set operations')\n",
    "print('Union:',s1|s2) # Union\n",
    "print('Intersection:',s1&s2) # Intersection\n",
    "print('Difference (s1-s2):',s1-s2) # Difference (In s1 but not in s2)\n",
    "print('Symmetric Difference:',s1^s2) # Symmetric difference\n",
    "a = 'table_tennis'\n",
    "# Membership\n",
    "print('\\n**Membership')\n",
    "print('Is', a, 'in', s1,'?', a in s1)\n",
    "print('Is', a, 'in', s2,'?', a in s2)"
   ]
  },
  {
   "cell_type": "markdown",
   "id": "f5553c3f",
   "metadata": {},
   "source": [
    "## 3.9 Binary: Bytes, Bytearray "
   ]
  },
  {
   "cell_type": "code",
   "execution_count": null,
   "id": "7332fe71",
   "metadata": {},
   "outputs": [],
   "source": [
    "# Bytes\n",
    "bstr = bytes(b'String of bytes')\n",
    "print(type(bstr))\n",
    "print(bstr)\n",
    "print('Bytes string length:',len(bstr))\n",
    "print('Print a substrings of bytes:',bstr[7:9])\n",
    "bstr[7:9] = b'in' # Bytes are immutable"
   ]
  },
  {
   "cell_type": "code",
   "execution_count": null,
   "id": "ee5b5b67",
   "metadata": {},
   "outputs": [],
   "source": [
    "# Bytearray\n",
    "bastr = bytearray(b'String of bytes')\n",
    "print(type(bastr))\n",
    "print('Print the original bytearray:',bastr)\n",
    "print('Bytearray string length:',len(bastr))\n",
    "print('Print a substrings of bytearray:',bastr[7:9])\n",
    "bastr[7:9] = b'in' # Bytearrays are mutable\n",
    "print('Print the mutated bytearray:',bastr)\n",
    "print('Print the original bytearray:',bastr.replace(b' in',b' of'))"
   ]
  },
  {
   "cell_type": "markdown",
   "id": "29ab3bff",
   "metadata": {},
   "source": [
    "## 3.10 NoneType "
   ]
  },
  {
   "cell_type": "code",
   "execution_count": null,
   "id": "60dc97d9",
   "metadata": {},
   "outputs": [],
   "source": [
    "# None\n",
    "v1 = None\n",
    "print(v1)\n",
    "print(type(v1))"
   ]
  },
  {
   "cell_type": "markdown",
   "id": "dbc78a0e",
   "metadata": {},
   "source": [
    "# 4. Control Structures  "
   ]
  },
  {
   "cell_type": "markdown",
   "id": "f335cfb8",
   "metadata": {},
   "source": [
    "## 4.1 Decision Control Structures"
   ]
  },
  {
   "cell_type": "code",
   "execution_count": null,
   "id": "4ebda975",
   "metadata": {},
   "outputs": [],
   "source": [
    "# If statement\n",
    "dic_ages = {'Anna':27, 'Maria':33,'Peter':42,'Robert':35}\n",
    "if dic_ages['Anna'] > 18:\n",
    "    print('Anna is of legal age')\n",
    "print('End of code')"
   ]
  },
  {
   "cell_type": "code",
   "execution_count": null,
   "id": "d7f6a0aa",
   "metadata": {},
   "outputs": [],
   "source": [
    "# If-else statement\n",
    "# Condition 1\n",
    "dic_ages = {'Anna':27, 'Maria':33,'Peter':42,'Robert':35}\n",
    "print('*Anna is',dic_ages['Anna'],'years old*')\n",
    "if dic_ages['Anna'] > 18:\n",
    "    print('Anna is of legal age')\n",
    "else:\n",
    "    print('Anna is underage')\n",
    "print('End of code') # New code block\n",
    "\n",
    "# Condition 2\n",
    "dic_ages = {'Anna':17, 'Maria':33,'Peter':42,'Robert':35}\n",
    "print('\\n*Anna is',dic_ages['Anna'],'years old*')\n",
    "if dic_ages['Anna'] > 18:\n",
    "    print('Anna is of legal age')\n",
    "else:\n",
    "    print('Anna is underage')\n",
    "print('End of code') # New code block"
   ]
  },
  {
   "cell_type": "code",
   "execution_count": null,
   "id": "b4f34597",
   "metadata": {},
   "outputs": [],
   "source": [
    "# If-elif statement\n",
    "# Condition 1\n",
    "dic_ages = {'Anna':27, 'Maria':73,'Peter':42,'Robert':35}\n",
    "print('*Anna is',dic_ages['Anna'],'years old*')\n",
    "print('*Maria is',dic_ages['Maria'],'years old*')\n",
    "if dic_ages['Anna'] < 18:\n",
    "    print('Anna is underage')\n",
    "elif dic_ages['Maria'] >= 65:\n",
    "    print('Maria is an older adult and Anna is an adult')\n",
    "print('End of code') # New code block\n",
    "\n",
    "# Condition 2\n",
    "dic_ages = {'Anna':27, 'Maria':63,'Peter':42,'Robert':35}\n",
    "print('\\n*Anna is',dic_ages['Anna'],'years old*')\n",
    "print('*Maria is',dic_ages['Maria'],'years old*')\n",
    "if dic_ages['Anna'] < 18:\n",
    "    print('Anna is underage')\n",
    "elif dic_ages['Maria'] >= 65:\n",
    "    print('Maria is an older adult')\n",
    "print('End of code') # New code block"
   ]
  },
  {
   "cell_type": "code",
   "execution_count": null,
   "id": "442a012b",
   "metadata": {},
   "outputs": [],
   "source": [
    "# Nested if statements\n",
    "dic_ages = {'Anna':27, 'Maria':73,'Peter':42,'Robert':35}\n",
    "print('*Maria is',dic_ages['Maria'],'years old*')\n",
    "if dic_ages['Maria'] >= 18:\n",
    "    print('Maria is an adult')\n",
    "    if dic_ages['Maria'] >= 65:\n",
    "        print('Maria is an older adult')\n",
    "print('End of code') # New code block"
   ]
  },
  {
   "cell_type": "code",
   "execution_count": null,
   "id": "016b07ab",
   "metadata": {},
   "outputs": [],
   "source": [
    "# If-elif-else statement\n",
    "# Condition 1\n",
    "dic_ages = {'Anna':27, 'Maria':73,'Peter':42,'Robert':35}\n",
    "print('*Anna is',dic_ages['Anna'],'years old*')\n",
    "print('*Maria is',dic_ages['Maria'],'years old*')\n",
    "if dic_ages['Anna'] < 18:\n",
    "    print('Anna is underage')\n",
    "elif dic_ages['Maria'] >= 65:\n",
    "    print('Maria is an older adult and Anna is an adult')\n",
    "else:\n",
    "    print('Maria is an adult')\n",
    "print('End of code') # New code block\n",
    "\n",
    "# Condition 2\n",
    "dic_ages = {'Anna':27, 'Maria':63,'Peter':42,'Robert':35}\n",
    "print('\\n*Anna is',dic_ages['Anna'],'years old*')\n",
    "print('*Maria is',dic_ages['Maria'],'years old*')\n",
    "if dic_ages['Anna'] < 18:\n",
    "    print('Anna is underage')\n",
    "elif dic_ages['Maria'] >= 65:\n",
    "    print('Maria is an older adult')\n",
    "else:\n",
    "    print('Maria and Anna are adults')\n",
    "print('End of code') # New code block"
   ]
  },
  {
   "cell_type": "markdown",
   "id": "52f17e5c",
   "metadata": {},
   "source": [
    "## 4.2 Repetition Control Structures"
   ]
  },
  {
   "cell_type": "markdown",
   "id": "0c7cde60",
   "metadata": {},
   "source": [
    "### 4.2.1 While Loop "
   ]
  },
  {
   "cell_type": "code",
   "execution_count": null,
   "id": "f2ca10e8",
   "metadata": {},
   "outputs": [],
   "source": [
    "# While statement (creating a list)\n",
    "stop = 5; it = 0; v = []\n",
    "while it < stop:\n",
    "    it = it + 1\n",
    "    v.append(it)\n",
    "    print(it) # Print every iteration\n",
    "print('The list is:',v) # Print after the while loop"
   ]
  },
  {
   "cell_type": "code",
   "execution_count": null,
   "id": "3ea569d6",
   "metadata": {},
   "outputs": [],
   "source": [
    "# While statement (counting and conditional statement)\n",
    "s1 = ['soccer', 'basketball', 'tennis', 'table_tennis', 'football', \n",
    "      'baseball', 'volleyball']\n",
    "it = 0; soma = 0\n",
    "print('List s1:',s1)\n",
    "while it < len(s1)-1:\n",
    "    if s1[it] != 'table_tennis':\n",
    "        soma = soma + 1\n",
    "    it = it + 1\n",
    "print('The number of items different from table_tennis is:', it)"
   ]
  },
  {
   "cell_type": "markdown",
   "id": "7da51ba4",
   "metadata": {},
   "source": [
    "### 4.2.2 For Loop "
   ]
  },
  {
   "cell_type": "code",
   "execution_count": null,
   "id": "e08aac39",
   "metadata": {},
   "outputs": [],
   "source": [
    "# For statement (creating a list)\n",
    "stop = 5; it = 0; v = []\n",
    "for it in range(stop):\n",
    "    it = it + 1\n",
    "    v.append(it)\n",
    "    print(it) # Print every iteration\n",
    "print('The list is:',v) # Print after the while loop"
   ]
  },
  {
   "cell_type": "code",
   "execution_count": null,
   "id": "a2ff385f",
   "metadata": {},
   "outputs": [],
   "source": [
    "# For statement (iterating over a string)\n",
    "p1 = 'My name is'\n",
    "print('String p1:',p1)\n",
    "for i in p1:\n",
    "    print(i)"
   ]
  },
  {
   "cell_type": "code",
   "execution_count": null,
   "id": "7c4e2d9f",
   "metadata": {},
   "outputs": [],
   "source": [
    "# For statement (iterating over a list)\n",
    "s1 = ['soccer', 'basketball', 'tennis', 'table_tennis', 'football', \n",
    "      'baseball', 'volleyball']\n",
    "print('List s1:',s1)\n",
    "for i in s1:\n",
    "    print(i)\n",
    "print(type(i))"
   ]
  },
  {
   "cell_type": "code",
   "execution_count": null,
   "id": "0fb6550d",
   "metadata": {},
   "outputs": [],
   "source": [
    "# For statement (iterating over a tuple)\n",
    "mytuple = ('There','are',50,'states','in','USA')\n",
    "print('Tuple mytuple:',mytuple)\n",
    "for i in mytuple:\n",
    "    print(i)\n",
    "print(type(i))"
   ]
  },
  {
   "cell_type": "code",
   "execution_count": null,
   "id": "b85655a1",
   "metadata": {},
   "outputs": [],
   "source": [
    "# For statement (iterating over a dictionary)\n",
    "dic_ages = {'Anna':27, 'Maria':33,'Peter':42,'Robert':35}\n",
    "print('Dictionary dic_ages:',dic_ages)\n",
    "for i in dic_ages:\n",
    "    print('%s %d' % (i,dic_ages[i]))\n",
    "print(type(i),type(dic_ages[i]))"
   ]
  },
  {
   "cell_type": "code",
   "execution_count": null,
   "id": "6c9554a5",
   "metadata": {},
   "outputs": [],
   "source": [
    "# For statement (iterating over a set)\n",
    "s1 = {'soccer','basketball','baseball','football','soccer'}\n",
    "print('Set s1:',s1)\n",
    "for i in s1:\n",
    "    print(i)\n",
    "print(type(i))"
   ]
  },
  {
   "cell_type": "markdown",
   "id": "862e4ed2",
   "metadata": {},
   "source": [
    "# 5. Functions"
   ]
  },
  {
   "cell_type": "code",
   "execution_count": null,
   "id": "19196c0c",
   "metadata": {},
   "outputs": [],
   "source": [
    "# Function example 1\n",
    "def my_first_function():\n",
    "    print(\"I am a data analyst\")\n",
    "my_first_function() # Call to function my_first_function"
   ]
  },
  {
   "cell_type": "code",
   "execution_count": null,
   "id": "3338d963",
   "metadata": {},
   "outputs": [],
   "source": [
    "# Function example 2\n",
    "def my_func():\n",
    "    name = input('Enter your name: ')\n",
    "    print('Your name is',name)\n",
    "my_func()"
   ]
  },
  {
   "cell_type": "code",
   "execution_count": null,
   "id": "3b2a2c0a",
   "metadata": {},
   "outputs": [],
   "source": [
    "# Function calculates the area of a square\n",
    "def fsq_area(sq_side:float):\n",
    "    sq_area = sq_side*sq_side\n",
    "    print('The area of the square is',sq_area,'sqmt')\n",
    "    return(sq_area)\n",
    "\n",
    "print('*Function calculates the area of a square*')\n",
    "sq_side = float(input('Size of the square side:'))\n",
    "fsq_area(sq_side)"
   ]
  },
  {
   "cell_type": "code",
   "execution_count": null,
   "id": "8e229c06",
   "metadata": {},
   "outputs": [],
   "source": [
    "# Function determines if a number is even or odd\n",
    "def feven_odd(val:int):\n",
    "    if (val % 2 == 0):\n",
    "        print('Answer: number',val,'is even')\n",
    "    else:\n",
    "        print('Answer: number',val,'is odd')\n",
    "        \n",
    "print('*Function determines if a number is even or odd*')\n",
    "num = int(input('Input the number:'))\n",
    "feven_odd(num)"
   ]
  },
  {
   "cell_type": "code",
   "execution_count": null,
   "id": "1bf5a7b0",
   "metadata": {},
   "outputs": [],
   "source": [
    "# Function using keyword arguments allows the user to enter the \n",
    "# corresponding argument for each keyword independently of the order\n",
    "def fpd(name:str,age:int):\n",
    "    dic_ages = {}\n",
    "    dic_ages[name] = age\n",
    "    print(dic_ages)\n",
    "\n",
    "fpd(age=50, name='Pietra')"
   ]
  },
  {
   "cell_type": "code",
   "execution_count": null,
   "id": "1ea374eb",
   "metadata": {},
   "outputs": [],
   "source": [
    "# Function fills in a dataset with personal data\n",
    "def fpd(num): # Function personal data (fpd)\n",
    "    dic_ages = {}\n",
    "    for i in range(num):\n",
    "        name = str(input('Name of user:'))\n",
    "        age = int(input('Age of user:'))\n",
    "        dic_ages[name] = age\n",
    "    print('Saved dataset (dict):',dic_ages)\n",
    "\n",
    "print('*Function fills in a dataset with personal data*')\n",
    "num = int(input('Number of users to save the data:'))\n",
    "fpd(num)"
   ]
  }
 ],
 "metadata": {
  "kernelspec": {
   "display_name": "Python 3 (ipykernel)",
   "language": "python",
   "name": "python3"
  },
  "language_info": {
   "codemirror_mode": {
    "name": "ipython",
    "version": 3
   },
   "file_extension": ".py",
   "mimetype": "text/x-python",
   "name": "python",
   "nbconvert_exporter": "python",
   "pygments_lexer": "ipython3",
   "version": "3.9.12"
  }
 },
 "nbformat": 4,
 "nbformat_minor": 5
}
